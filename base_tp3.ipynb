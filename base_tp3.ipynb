{
 "cells": [
  {
   "cell_type": "code",
   "execution_count": 1,
   "id": "9f2b6471-285e-478d-98e9-db38110fb9f2",
   "metadata": {},
   "outputs": [],
   "source": [
    "import pandas as pd\n",
    "from sklearn.datasets import load_iris\n",
    "from sklearn.linear_model import LogisticRegression\n",
    "import math\n",
    "import numpy as np\n",
    "from sklearn.metrics import classification_report, accuracy_score, roc_auc_score, ConfusionMatrixDisplay, confusion_matrix\n",
    "from sklearn.model_selection import RandomizedSearchCV, RepeatedStratifiedKFold\n",
    "import numpy as np\n",
    "from scipy.stats import loguniform\n",
    "from matplotlib import pyplot"
   ]
  },
  {
   "cell_type": "code",
   "execution_count": 2,
   "id": "636bb226-9b29-49b3-b9d3-2f2da94485fb",
   "metadata": {},
   "outputs": [],
   "source": [
    "df=pd.read_csv(\"train_identity.csv\").merge(pd.read_csv(\"train_transaction.csv\"), how=\"right\", left_on= \"TransactionID\", right_on= \"TransactionID\")"
   ]
  },
  {
   "cell_type": "code",
   "execution_count": 3,
   "id": "ddc26b16-6e51-4aff-9f3a-9a59aceb218c",
   "metadata": {},
   "outputs": [],
   "source": [
    "for c in df.columns:\n",
    "    df[c] = df[c].replace(np.nan, 0)"
   ]
  },
  {
   "cell_type": "code",
   "execution_count": 4,
   "id": "fd0cc065",
   "metadata": {},
   "outputs": [],
   "source": [
    "lista_de_fraud = df.filter([\"TransactionID\", \"isFraud\"])"
   ]
  },
  {
   "cell_type": "code",
   "execution_count": 5,
   "id": "864185e9-ef31-416b-bc8e-9f5d70a1be9c",
   "metadata": {},
   "outputs": [],
   "source": [
    "del df[\"TransactionID\"]"
   ]
  },
  {
   "cell_type": "code",
   "execution_count": 6,
   "id": "d55fe5fa",
   "metadata": {},
   "outputs": [],
   "source": [
    "division_tran_validation = int(df[\"TransactionDT\"][len(df)-1]*0.80)"
   ]
  },
  {
   "cell_type": "code",
   "execution_count": 7,
   "id": "c55c142a-9d3f-4947-83f1-784e39bc1a90",
   "metadata": {},
   "outputs": [],
   "source": [
    "df_train = df[df[\"TransactionDT\"] <= division_tran_validation]"
   ]
  },
  {
   "cell_type": "code",
   "execution_count": 8,
   "id": "2d9454ae",
   "metadata": {},
   "outputs": [],
   "source": [
    "df_train_y = df_train[\"isFraud\"]"
   ]
  },
  {
   "cell_type": "code",
   "execution_count": 9,
   "id": "b0dc14db",
   "metadata": {},
   "outputs": [],
   "source": [
    "df_validation = df[df[\"TransactionDT\"] > division_tran_validation]"
   ]
  },
  {
   "cell_type": "code",
   "execution_count": 10,
   "id": "06a91754",
   "metadata": {},
   "outputs": [],
   "source": [
    "df_validation_y = df_validation[\"isFraud\"]"
   ]
  },
  {
   "cell_type": "code",
   "execution_count": 11,
   "id": "2a0a8fda",
   "metadata": {},
   "outputs": [],
   "source": [
    "del df_validation[\"isFraud\"]"
   ]
  },
  {
   "cell_type": "code",
   "execution_count": 12,
   "id": "886e0903",
   "metadata": {},
   "outputs": [],
   "source": [
    "%reset_selective -f \"^df$\""
   ]
  },
  {
   "cell_type": "code",
   "execution_count": 13,
   "id": "57c0c46e-ceed-4526-b5c0-26bfc58e6368",
   "metadata": {},
   "outputs": [],
   "source": [
    "lista_de_diccs = {}"
   ]
  },
  {
   "cell_type": "code",
   "execution_count": 14,
   "id": "ff12490a-15ac-46a2-808f-042b823be8ff",
   "metadata": {},
   "outputs": [],
   "source": [
    "for c in df_train.columns:\n",
    "    if df_train[c].dtype==object: \n",
    "        dict_actual=df_train.groupby([c])['isFraud'].mean().to_dict()\n",
    "        lista_de_diccs[c]=dict_actual\n",
    "        df_train[c]= df_train[c].map(dict_actual)"
   ]
  },
  {
   "cell_type": "code",
   "execution_count": 15,
   "id": "8a9ee598",
   "metadata": {},
   "outputs": [],
   "source": [
    "del df_train[\"isFraud\"]"
   ]
  },
  {
   "cell_type": "code",
   "execution_count": 16,
   "id": "1f843a27",
   "metadata": {},
   "outputs": [],
   "source": [
    "for c in df_validation.columns:\n",
    "    if df_validation[c].dtype==object: \n",
    "        df_validation[c]= df_validation[c].map(lista_de_diccs[c])"
   ]
  },
  {
   "cell_type": "code",
   "execution_count": 17,
   "id": "450c7986-a644-46fb-bf18-c3fd97aafe09",
   "metadata": {},
   "outputs": [],
   "source": [
    "model = LogisticRegression(C=0.1, max_iter=200)"
   ]
  },
  {
   "cell_type": "code",
   "execution_count": 18,
   "id": "1f2f1b70",
   "metadata": {},
   "outputs": [],
   "source": [
    "space = dict()\n",
    "space['solver'] = ['newton-cg', 'liblinear', \"lbgfs\"]\n",
    "space['penalty'] = ['l2']\n",
    "space['C'] = [0.1]"
   ]
  },
  {
   "cell_type": "code",
   "execution_count": 19,
   "id": "c0066f69",
   "metadata": {},
   "outputs": [],
   "source": [
    "for c in df_validation.columns:\n",
    "    if df_validation[c].dtype==object:\n",
    "        print( df_validation[c])"
   ]
  },
  {
   "cell_type": "code",
   "execution_count": 20,
   "id": "ba9f62f0",
   "metadata": {},
   "outputs": [],
   "source": [
    "searcher = RandomizedSearchCV(model, space,cv=3, random_state=1, n_iter=4, n_jobs=1)"
   ]
  },
  {
   "cell_type": "code",
   "execution_count": 21,
   "id": "7110ca48",
   "metadata": {},
   "outputs": [
    {
     "name": "stderr",
     "output_type": "stream",
     "text": [
      "/home/bruno/.local/lib/python3.8/site-packages/sklearn/model_selection/_search.py:292: UserWarning: The total space of parameters 3 is smaller than n_iter=4. Running 3 iterations. For exhaustive searches, use GridSearchCV.\n",
      "  warnings.warn(\n",
      "/usr/local/lib/python3.8/dist-packages/scipy/optimize/linesearch.py:478: LineSearchWarning: The line search algorithm did not converge\n",
      "  warn('The line search algorithm did not converge', LineSearchWarning)\n",
      "/usr/local/lib/python3.8/dist-packages/scipy/optimize/linesearch.py:327: LineSearchWarning: The line search algorithm did not converge\n",
      "  warn('The line search algorithm did not converge', LineSearchWarning)\n",
      "/usr/local/lib/python3.8/dist-packages/scipy/optimize/linesearch.py:478: LineSearchWarning: The line search algorithm did not converge\n",
      "  warn('The line search algorithm did not converge', LineSearchWarning)\n",
      "/usr/local/lib/python3.8/dist-packages/scipy/optimize/linesearch.py:327: LineSearchWarning: The line search algorithm did not converge\n",
      "  warn('The line search algorithm did not converge', LineSearchWarning)\n",
      "/usr/local/lib/python3.8/dist-packages/scipy/optimize/linesearch.py:478: LineSearchWarning: The line search algorithm did not converge\n",
      "  warn('The line search algorithm did not converge', LineSearchWarning)\n",
      "/usr/local/lib/python3.8/dist-packages/scipy/optimize/linesearch.py:327: LineSearchWarning: The line search algorithm did not converge\n",
      "  warn('The line search algorithm did not converge', LineSearchWarning)\n",
      "/usr/local/lib/python3.8/dist-packages/scipy/optimize/linesearch.py:478: LineSearchWarning: The line search algorithm did not converge\n",
      "  warn('The line search algorithm did not converge', LineSearchWarning)\n",
      "/usr/local/lib/python3.8/dist-packages/scipy/optimize/linesearch.py:327: LineSearchWarning: The line search algorithm did not converge\n",
      "  warn('The line search algorithm did not converge', LineSearchWarning)\n",
      "/usr/local/lib/python3.8/dist-packages/scipy/optimize/linesearch.py:478: LineSearchWarning: The line search algorithm did not converge\n",
      "  warn('The line search algorithm did not converge', LineSearchWarning)\n",
      "/usr/local/lib/python3.8/dist-packages/scipy/optimize/linesearch.py:327: LineSearchWarning: The line search algorithm did not converge\n",
      "  warn('The line search algorithm did not converge', LineSearchWarning)\n",
      "/usr/local/lib/python3.8/dist-packages/scipy/optimize/linesearch.py:478: LineSearchWarning: The line search algorithm did not converge\n",
      "  warn('The line search algorithm did not converge', LineSearchWarning)\n",
      "/usr/local/lib/python3.8/dist-packages/scipy/optimize/linesearch.py:327: LineSearchWarning: The line search algorithm did not converge\n",
      "  warn('The line search algorithm did not converge', LineSearchWarning)\n",
      "/usr/local/lib/python3.8/dist-packages/scipy/optimize/linesearch.py:478: LineSearchWarning: The line search algorithm did not converge\n",
      "  warn('The line search algorithm did not converge', LineSearchWarning)\n",
      "/usr/local/lib/python3.8/dist-packages/scipy/optimize/linesearch.py:327: LineSearchWarning: The line search algorithm did not converge\n",
      "  warn('The line search algorithm did not converge', LineSearchWarning)\n",
      "/usr/local/lib/python3.8/dist-packages/scipy/optimize/linesearch.py:478: LineSearchWarning: The line search algorithm did not converge\n",
      "  warn('The line search algorithm did not converge', LineSearchWarning)\n",
      "/usr/local/lib/python3.8/dist-packages/scipy/optimize/linesearch.py:327: LineSearchWarning: The line search algorithm did not converge\n",
      "  warn('The line search algorithm did not converge', LineSearchWarning)\n",
      "/usr/local/lib/python3.8/dist-packages/scipy/optimize/linesearch.py:478: LineSearchWarning: The line search algorithm did not converge\n",
      "  warn('The line search algorithm did not converge', LineSearchWarning)\n",
      "/usr/local/lib/python3.8/dist-packages/scipy/optimize/linesearch.py:327: LineSearchWarning: The line search algorithm did not converge\n",
      "  warn('The line search algorithm did not converge', LineSearchWarning)\n",
      "/usr/local/lib/python3.8/dist-packages/scipy/optimize/linesearch.py:478: LineSearchWarning: The line search algorithm did not converge\n",
      "  warn('The line search algorithm did not converge', LineSearchWarning)\n",
      "/usr/local/lib/python3.8/dist-packages/scipy/optimize/linesearch.py:327: LineSearchWarning: The line search algorithm did not converge\n",
      "  warn('The line search algorithm did not converge', LineSearchWarning)\n",
      "/home/bruno/.local/lib/python3.8/site-packages/sklearn/utils/optimize.py:210: ConvergenceWarning: newton-cg failed to converge. Increase the number of iterations.\n",
      "  warnings.warn(\n",
      "/usr/local/lib/python3.8/dist-packages/scipy/optimize/linesearch.py:478: LineSearchWarning: The line search algorithm did not converge\n",
      "  warn('The line search algorithm did not converge', LineSearchWarning)\n",
      "/usr/local/lib/python3.8/dist-packages/scipy/optimize/linesearch.py:327: LineSearchWarning: The line search algorithm did not converge\n",
      "  warn('The line search algorithm did not converge', LineSearchWarning)\n",
      "/usr/local/lib/python3.8/dist-packages/scipy/optimize/linesearch.py:478: LineSearchWarning: The line search algorithm did not converge\n",
      "  warn('The line search algorithm did not converge', LineSearchWarning)\n",
      "/usr/local/lib/python3.8/dist-packages/scipy/optimize/linesearch.py:327: LineSearchWarning: The line search algorithm did not converge\n",
      "  warn('The line search algorithm did not converge', LineSearchWarning)\n",
      "/usr/local/lib/python3.8/dist-packages/scipy/optimize/linesearch.py:478: LineSearchWarning: The line search algorithm did not converge\n",
      "  warn('The line search algorithm did not converge', LineSearchWarning)\n",
      "/usr/local/lib/python3.8/dist-packages/scipy/optimize/linesearch.py:327: LineSearchWarning: The line search algorithm did not converge\n",
      "  warn('The line search algorithm did not converge', LineSearchWarning)\n",
      "/usr/local/lib/python3.8/dist-packages/scipy/optimize/linesearch.py:478: LineSearchWarning: The line search algorithm did not converge\n",
      "  warn('The line search algorithm did not converge', LineSearchWarning)\n",
      "/usr/local/lib/python3.8/dist-packages/scipy/optimize/linesearch.py:327: LineSearchWarning: The line search algorithm did not converge\n",
      "  warn('The line search algorithm did not converge', LineSearchWarning)\n",
      "/usr/local/lib/python3.8/dist-packages/scipy/optimize/linesearch.py:478: LineSearchWarning: The line search algorithm did not converge\n",
      "  warn('The line search algorithm did not converge', LineSearchWarning)\n",
      "/usr/local/lib/python3.8/dist-packages/scipy/optimize/linesearch.py:327: LineSearchWarning: The line search algorithm did not converge\n",
      "  warn('The line search algorithm did not converge', LineSearchWarning)\n",
      "/home/bruno/.local/lib/python3.8/site-packages/sklearn/utils/optimize.py:210: ConvergenceWarning: newton-cg failed to converge. Increase the number of iterations.\n",
      "  warnings.warn(\n",
      "/usr/local/lib/python3.8/dist-packages/scipy/optimize/linesearch.py:478: LineSearchWarning: The line search algorithm did not converge\n",
      "  warn('The line search algorithm did not converge', LineSearchWarning)\n",
      "/usr/local/lib/python3.8/dist-packages/scipy/optimize/linesearch.py:327: LineSearchWarning: The line search algorithm did not converge\n",
      "  warn('The line search algorithm did not converge', LineSearchWarning)\n",
      "/usr/local/lib/python3.8/dist-packages/scipy/optimize/linesearch.py:478: LineSearchWarning: The line search algorithm did not converge\n",
      "  warn('The line search algorithm did not converge', LineSearchWarning)\n",
      "/usr/local/lib/python3.8/dist-packages/scipy/optimize/linesearch.py:327: LineSearchWarning: The line search algorithm did not converge\n",
      "  warn('The line search algorithm did not converge', LineSearchWarning)\n",
      "/usr/local/lib/python3.8/dist-packages/scipy/optimize/linesearch.py:478: LineSearchWarning: The line search algorithm did not converge\n",
      "  warn('The line search algorithm did not converge', LineSearchWarning)\n",
      "/usr/local/lib/python3.8/dist-packages/scipy/optimize/linesearch.py:327: LineSearchWarning: The line search algorithm did not converge\n",
      "  warn('The line search algorithm did not converge', LineSearchWarning)\n",
      "/usr/local/lib/python3.8/dist-packages/scipy/optimize/linesearch.py:478: LineSearchWarning: The line search algorithm did not converge\n",
      "  warn('The line search algorithm did not converge', LineSearchWarning)\n",
      "/usr/local/lib/python3.8/dist-packages/scipy/optimize/linesearch.py:327: LineSearchWarning: The line search algorithm did not converge\n",
      "  warn('The line search algorithm did not converge', LineSearchWarning)\n"
     ]
    },
    {
     "name": "stderr",
     "output_type": "stream",
     "text": [
      "/usr/local/lib/python3.8/dist-packages/scipy/optimize/linesearch.py:478: LineSearchWarning: The line search algorithm did not converge\n",
      "  warn('The line search algorithm did not converge', LineSearchWarning)\n",
      "/usr/local/lib/python3.8/dist-packages/scipy/optimize/linesearch.py:327: LineSearchWarning: The line search algorithm did not converge\n",
      "  warn('The line search algorithm did not converge', LineSearchWarning)\n",
      "/usr/local/lib/python3.8/dist-packages/scipy/optimize/linesearch.py:478: LineSearchWarning: The line search algorithm did not converge\n",
      "  warn('The line search algorithm did not converge', LineSearchWarning)\n",
      "/usr/local/lib/python3.8/dist-packages/scipy/optimize/linesearch.py:327: LineSearchWarning: The line search algorithm did not converge\n",
      "  warn('The line search algorithm did not converge', LineSearchWarning)\n",
      "/home/bruno/.local/lib/python3.8/site-packages/sklearn/utils/optimize.py:210: ConvergenceWarning: newton-cg failed to converge. Increase the number of iterations.\n",
      "  warnings.warn(\n",
      "/home/bruno/.local/lib/python3.8/site-packages/sklearn/model_selection/_validation.py:372: FitFailedWarning: \n",
      "3 fits failed out of a total of 9.\n",
      "The score on these train-test partitions for these parameters will be set to nan.\n",
      "If these failures are not expected, you can try to debug them by setting error_score='raise'.\n",
      "\n",
      "Below are more details about the failures:\n",
      "--------------------------------------------------------------------------------\n",
      "3 fits failed with the following error:\n",
      "Traceback (most recent call last):\n",
      "  File \"/home/bruno/.local/lib/python3.8/site-packages/sklearn/model_selection/_validation.py\", line 681, in _fit_and_score\n",
      "    estimator.fit(X_train, y_train, **fit_params)\n",
      "  File \"/home/bruno/.local/lib/python3.8/site-packages/sklearn/linear_model/_logistic.py\", line 1461, in fit\n",
      "    solver = _check_solver(self.solver, self.penalty, self.dual)\n",
      "  File \"/home/bruno/.local/lib/python3.8/site-packages/sklearn/linear_model/_logistic.py\", line 434, in _check_solver\n",
      "    raise ValueError(\n",
      "ValueError: Logistic Regression supports only solvers in ['liblinear', 'newton-cg', 'lbfgs', 'sag', 'saga'], got lbgfs.\n",
      "\n",
      "  warnings.warn(some_fits_failed_message, FitFailedWarning)\n",
      "/home/bruno/.local/lib/python3.8/site-packages/sklearn/model_selection/_search.py:969: UserWarning: One or more of the test scores are non-finite: [0.95396546 0.9629046         nan]\n",
      "  warnings.warn(\n"
     ]
    },
    {
     "data": {
      "text/plain": [
       "RandomizedSearchCV(cv=3, estimator=LogisticRegression(C=0.1, max_iter=200),\n",
       "                   n_iter=4, n_jobs=1,\n",
       "                   param_distributions={'C': [0.1], 'penalty': ['l2'],\n",
       "                                        'solver': ['newton-cg', 'liblinear',\n",
       "                                                   'lbgfs']},\n",
       "                   random_state=1)"
      ]
     },
     "execution_count": 21,
     "metadata": {},
     "output_type": "execute_result"
    }
   ],
   "source": [
    "searcher.fit(df_train, df_train_y)"
   ]
  },
  {
   "cell_type": "code",
   "execution_count": 22,
   "id": "6731e172",
   "metadata": {},
   "outputs": [],
   "source": [
    "import pickle\n",
    "with open('model_backup', 'wb') as model_backup_file:\n",
    "    pickle.dump(searcher, model_backup_file)"
   ]
  },
  {
   "cell_type": "code",
   "execution_count": 20,
   "id": "19537934",
   "metadata": {},
   "outputs": [],
   "source": [
    "import pickle\n",
    "with open('model_backup', 'rb') as file:\n",
    "    searcher = pickle.load(file)"
   ]
  },
  {
   "cell_type": "code",
   "execution_count": 21,
   "id": "e7133590",
   "metadata": {},
   "outputs": [],
   "source": [
    "for c in df_validation.columns:\n",
    "    df_validation[c] = df_validation[c].replace(np.nan, 0)"
   ]
  },
  {
   "cell_type": "code",
   "execution_count": 22,
   "id": "562549af",
   "metadata": {},
   "outputs": [
    {
     "name": "stdout",
     "output_type": "stream",
     "text": [
      "              precision    recall  f1-score   support\n",
      "\n",
      "           0       0.97      1.00      0.98    101464\n",
      "           1       0.03      0.00      0.00      3571\n",
      "\n",
      "    accuracy                           0.96    105035\n",
      "   macro avg       0.50      0.50      0.49    105035\n",
      "weighted avg       0.93      0.96      0.95    105035\n",
      "\n"
     ]
    }
   ],
   "source": [
    "print(classification_report( df_validation_y, searcher.best_estimator_.predict(df_validation)))"
   ]
  },
  {
   "cell_type": "code",
   "execution_count": 23,
   "id": "6a1748fb",
   "metadata": {},
   "outputs": [
    {
     "data": {
      "text/plain": [
       "0.702981032012259"
      ]
     },
     "execution_count": 23,
     "metadata": {},
     "output_type": "execute_result"
    }
   ],
   "source": [
    "roc_auc_score(df_validation_y, searcher.best_estimator_.predict_proba(df_validation)[:,1])"
   ]
  },
  {
   "cell_type": "code",
   "execution_count": 24,
   "id": "ff4b42d6",
   "metadata": {},
   "outputs": [],
   "source": [
    "#%reset_selective -f \"^df_train$\"\n",
    "%reset_selective -f \"^df_validation$\""
   ]
  },
  {
   "cell_type": "code",
   "execution_count": 25,
   "id": "fae86481-e2dd-4d5c-b2c6-07708d4f73a5",
   "metadata": {},
   "outputs": [],
   "source": [
    "df = pd.read_csv(\"test_identity.csv\").merge(pd.read_csv(\"test_transaction.csv\"), how=\"right\", left_on= \"TransactionID\", right_on= \"TransactionID\")"
   ]
  },
  {
   "cell_type": "code",
   "execution_count": 26,
   "id": "d3953445",
   "metadata": {},
   "outputs": [],
   "source": [
    "transactionid = df[\"TransactionID\"]"
   ]
  },
  {
   "cell_type": "code",
   "execution_count": 27,
   "id": "51dc8855",
   "metadata": {},
   "outputs": [],
   "source": [
    "del df[\"TransactionID\"]"
   ]
  },
  {
   "cell_type": "code",
   "execution_count": 28,
   "id": "5c889f8d",
   "metadata": {},
   "outputs": [],
   "source": [
    "for k in df.columns:\n",
    "    df.rename(columns={k: k.replace(\"id-\", \"id_\")}, inplace=True)"
   ]
  },
  {
   "cell_type": "code",
   "execution_count": 29,
   "id": "7f4ccdcf",
   "metadata": {},
   "outputs": [],
   "source": [
    "for k in df.columns:\n",
    "    if df[k].dtype==object: \n",
    "        df[k]= df[k].map(lista_de_diccs[k])\n",
    "    df[k].replace(np.nan, 0, inplace=True)"
   ]
  },
  {
   "cell_type": "code",
   "execution_count": 30,
   "id": "a44c5211",
   "metadata": {},
   "outputs": [],
   "source": [
    "pd.DataFrame({\"TransactionID\":transactionid, \"isFraud\":list(searcher.best_estimator_.predict_proba(df)[:,1])}).set_index(\"TransactionID\").to_csv(\"df_entrega_concurso_LogisticRegression.csv\")"
   ]
  },
  {
   "cell_type": "markdown",
   "id": "7847d8c7",
   "metadata": {},
   "source": [
    "## Puntaje Final del concurso para LogisticRegression\n",
    "### 0.756836"
   ]
  },
  {
   "cell_type": "code",
   "execution_count": 31,
   "id": "decbf24b",
   "metadata": {},
   "outputs": [],
   "source": [
    "importancia = []\n",
    "for i in range(len(searcher.best_estimator_.coef_[0])):\n",
    "    importancia.append(searcher.best_estimator_.coef_[0][i]/df_train[df_train.columns[i]].mean())"
   ]
  },
  {
   "cell_type": "code",
   "execution_count": 32,
   "id": "fd221317",
   "metadata": {},
   "outputs": [],
   "source": [
    "ordenada = sorted(importancia)"
   ]
  },
  {
   "cell_type": "code",
   "execution_count": 33,
   "id": "c81c4e35",
   "metadata": {},
   "outputs": [],
   "source": [
    "importancia_a_mandar = pd.DataFrame(importancia).rename(columns={0:\"importancia\"}).nlargest(100, \"importancia\")\n",
    "los_20_mas_importantes=pd.DataFrame(importancia).rename(columns={0:\"importancia\"}).nlargest(20, \"importancia\")"
   ]
  },
  {
   "cell_type": "code",
   "execution_count": 34,
   "id": "fb992170",
   "metadata": {},
   "outputs": [],
   "source": [
    "los_20_mas_importantes.index = los_20_mas_importantes.index.map(lambda x: df_train.columns[x])"
   ]
  },
  {
   "cell_type": "code",
   "execution_count": 35,
   "id": "ec90547d",
   "metadata": {},
   "outputs": [],
   "source": [
    "#los_20_mas_importantes=importancia[importancia[0].isin(ordenada[-20:])].rename(columns={0:\"importancia\"}).sort_values(\"importancia\")"
   ]
  },
  {
   "cell_type": "code",
   "execution_count": 36,
   "id": "c6ca3949",
   "metadata": {},
   "outputs": [
    {
     "data": {
      "text/plain": [
       "<matplotlib.axes._subplots.AxesSubplot at 0x7f34a1ae3100>"
      ]
     },
     "execution_count": 36,
     "metadata": {},
     "output_type": "execute_result"
    },
    {
     "data": {
      "image/png": "[encoded data removed]",
      "text/plain": [
       "<Figure size 1080x1080 with 1 Axes>"
      ]
     },
     "metadata": {
      "needs_background": "light"
     },
     "output_type": "display_data"
    }
   ],
   "source": [
    "los_20_mas_importantes.plot.bar(figsize=(15,15))"
   ]
  },
  {
   "cell_type": "code",
   "execution_count": 38,
   "id": "507bcdbf",
   "metadata": {},
   "outputs": [],
   "source": [
    "#me guardo los 100 features mas importantes de este modelo para la parte 3\n",
    "import pickle\n",
    "with open('features_importantes', 'wb') as model_backup_file:\n",
    "    pickle.dump(importancia_a_mandar, model_backup_file)"
   ]
  },
  {
   "cell_type": "code",
   "execution_count": null,
   "id": "a923cbd0",
   "metadata": {},
   "outputs": [],
   "source": []
  }
 ],
 "metadata": {
  "kernelspec": {
   "display_name": "Python 3 (ipykernel)",
   "language": "python",
   "name": "python3"
  },
  "language_info": {
   "codemirror_mode": {
    "name": "ipython",
    "version": 3
   },
   "file_extension": ".py",
   "mimetype": "text/x-python",
   "name": "python",
   "nbconvert_exporter": "python",
   "pygments_lexer": "ipython3",
   "version": "3.8.10"
  }
 },
 "nbformat": 4,
 "nbformat_minor": 5
}
