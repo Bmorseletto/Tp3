{
 "cells": [
  {
   "cell_type": "code",
   "execution_count": 1,
   "id": "f7ab8331",
   "metadata": {},
   "outputs": [],
   "source": [
    "import pandas as pd\n",
    "from sklearn.metrics import classification_report, accuracy_score, roc_auc_score\n",
    "from sklearn.model_selection import RandomizedSearchCV, RepeatedStratifiedKFold\n",
    "import numpy as np\n",
    "import xgboost as xgb\n",
    "from sklearn.ensemble import RandomForestRegressor\n",
    "from sklearn.preprocessing import OneHotEncoder\n",
    "from sklearn.feature_extraction.text import CountVectorizer\n",
    "from sklearn.impute import SimpleImputer"
   ]
  },
  {
   "cell_type": "code",
   "execution_count": 2,
   "id": "b3f29ded",
   "metadata": {},
   "outputs": [],
   "source": [
    "df=pd.read_csv(\"train_identity.csv\").merge(pd.read_csv(\"train_transaction.csv\"), how=\"right\", left_on= \"TransactionID\", right_on= \"TransactionID\")"
   ]
  },
  {
   "cell_type": "code",
   "execution_count": 3,
   "id": "a07a1475",
   "metadata": {},
   "outputs": [],
   "source": [
    "import pickle\n",
    "with open('features_importantes', 'rb') as file:\n",
    "    features_importantes = pickle.load(file)"
   ]
  },
  {
   "cell_type": "code",
   "execution_count": 4,
   "id": "a0a27503",
   "metadata": {},
   "outputs": [],
   "source": [
    "los_20_mas_importantes_part_2= features_importantes.sort_values(\"importancia\").nlargest(20, \"importancia\")"
   ]
  },
  {
   "cell_type": "code",
   "execution_count": 5,
   "id": "c196ebd4",
   "metadata": {},
   "outputs": [],
   "source": [
    "los_20_mas_importantes_part_2.index = los_20_mas_importantes_part_2.index.map(lambda x: df.columns[x]) "
   ]
  },
  {
   "cell_type": "code",
   "execution_count": 6,
   "id": "e4a6c374",
   "metadata": {},
   "outputs": [],
   "source": [
    "del df[\"TransactionID\"]"
   ]
  },
  {
   "cell_type": "code",
   "execution_count": 7,
   "id": "1c99ed52",
   "metadata": {},
   "outputs": [],
   "source": [
    "columnas_obligatorias = [\"DeviceInfo\", \"TransactionDT\", \"isFraud\", \"id_31\", \"id_33\", \"DeviceType\"]\n",
    "columnas=[]\n",
    "for c in features_importantes.index:\n",
    "    columnas.append(df.columns[c])\n",
    "for c in columnas_obligatorias:\n",
    "    if not c in columnas:\n",
    "        columnas.append(c)"
   ]
  },
  {
   "cell_type": "code",
   "execution_count": 8,
   "id": "0b61988b",
   "metadata": {},
   "outputs": [],
   "source": [
    "df=df.filter(columnas)"
   ]
  },
  {
   "cell_type": "code",
   "execution_count": 9,
   "id": "cf2d60fb",
   "metadata": {},
   "outputs": [],
   "source": [
    "for c in df.columns:\n",
    "    if df[c].dtype==object: \n",
    "        df[c] = df[c].replace(np.nan, \"NaN\")\n",
    "    else:\n",
    "        df[c] = df[c].replace(np.nan, df[c].mean())"
   ]
  },
  {
   "cell_type": "code",
   "execution_count": 10,
   "id": "40075844",
   "metadata": {},
   "outputs": [],
   "source": [
    "division_tran_validation = int(df[\"TransactionDT\"][len(df)-1]*0.80)"
   ]
  },
  {
   "cell_type": "code",
   "execution_count": 11,
   "id": "f966242b",
   "metadata": {},
   "outputs": [],
   "source": [
    "df_train = df[df[\"TransactionDT\"] <= division_tran_validation]\n",
    "df_train_y = df_train[\"isFraud\"]\n",
    "df_validation = df[df[\"TransactionDT\"] > division_tran_validation]\n",
    "df_validation_y = df_validation[\"isFraud\"]"
   ]
  },
  {
   "cell_type": "code",
   "execution_count": 12,
   "id": "48703f3c",
   "metadata": {},
   "outputs": [],
   "source": [
    "%reset_selective -f \"^df$\""
   ]
  },
  {
   "cell_type": "code",
   "execution_count": 13,
   "id": "97f4ff52",
   "metadata": {},
   "outputs": [],
   "source": [
    "lista_de_diccs = {}\n",
    "one_hot_features = []\n",
    "for c in df_train.columns:\n",
    "    vectorizer = CountVectorizer()\n",
    "    if df_train[c].dtype==object: \n",
    "        if len((df_train[c]).unique()) <= 10:\n",
    "            one_hot = pd.DataFrame(vectorizer.fit_transform(df_train[c]).toarray()).rename(lambda x: c+sorted(vectorizer.vocabulary_ )[x], axis=\"columns\")\n",
    "            del df_train[c]\n",
    "            one_hot_features.append(c)\n",
    "            df_train = df_train.join(one_hot)\n",
    "        else:\n",
    "            dict_actual=df_train.groupby([c])['isFraud'].mean().to_dict()\n",
    "            lista_de_diccs[c]=dict_actual\n",
    "            df_train[c]=df_train[c].map(dict_actual)"
   ]
  },
  {
   "cell_type": "code",
   "execution_count": 14,
   "id": "da5b8126",
   "metadata": {},
   "outputs": [],
   "source": [
    "del df_train[\"isFraud\"]\n",
    "del df_validation[\"isFraud\"]"
   ]
  },
  {
   "cell_type": "markdown",
   "id": "bfbfcf6f",
   "metadata": {},
   "source": [
    "## Modelo 1 XGBOOST"
   ]
  },
  {
   "cell_type": "code",
   "execution_count": 15,
   "id": "1af33df0",
   "metadata": {},
   "outputs": [],
   "source": [
    "xg_reg = xgb.XGBRegressor(objective ='reg:squarederror', \n",
    "                colsample_bytree = 0.3, learning_rate = 0.1,\n",
    "                max_depth = 5, alpha = 10, n_estimators = 10)"
   ]
  },
  {
   "cell_type": "code",
   "execution_count": 16,
   "id": "99c71626",
   "metadata": {},
   "outputs": [],
   "source": [
    "hiperparametros = {}\n",
    "hiperparametros[\"learning_rate\"] = [0.1, 0.2, 0.3]\n",
    "hiperparametros[\"colsample_bytree\"] = np.arange(0.1, 0.5, 0.1)\n",
    "hiperparametros[\"n_estimators\"] = range(100,201, 10)\n",
    "hiperparametros[\"max_depth\"] = range(5, 11)\n",
    "hiperparametros[\"subsample\"]= np.arange(0.1, 0.5, 0.1)\n",
    "hiperparametros[\"objective\"]=[\"reg:squarederror\", \"reg:logistic\"]"
   ]
  },
  {
   "cell_type": "code",
   "execution_count": 17,
   "id": "85834a88",
   "metadata": {},
   "outputs": [],
   "source": [
    "searcher = RandomizedSearchCV(xg_reg, hiperparametros,cv=3, random_state=1, n_iter=30, n_jobs=1)"
   ]
  },
  {
   "cell_type": "code",
   "execution_count": 18,
   "id": "03e416fa",
   "metadata": {},
   "outputs": [
    {
     "data": {
      "text/plain": [
       "RandomizedSearchCV(cv=3,\n",
       "                   estimator=XGBRegressor(alpha=10, base_score=None,\n",
       "                                          booster=None, colsample_bylevel=None,\n",
       "                                          colsample_bynode=None,\n",
       "                                          colsample_bytree=0.3,\n",
       "                                          enable_categorical=False, gamma=None,\n",
       "                                          gpu_id=None, importance_type=None,\n",
       "                                          interaction_constraints=None,\n",
       "                                          learning_rate=0.1,\n",
       "                                          max_delta_step=None, max_depth=5,\n",
       "                                          min_child_weight=None, missing=nan,\n",
       "                                          monotone_constrai...\n",
       "                                          scale_pos_weight=None, subsample=None,\n",
       "                                          tree_method=None,\n",
       "                                          validate_parameters=None,\n",
       "                                          verbosity=None),\n",
       "                   n_iter=30, n_jobs=1,\n",
       "                   param_distributions={'colsample_bytree': array([0.1, 0.2, 0.3, 0.4]),\n",
       "                                        'learning_rate': [0.1, 0.2, 0.3],\n",
       "                                        'max_depth': range(5, 11),\n",
       "                                        'n_estimators': range(100, 201, 10),\n",
       "                                        'objective': ['reg:squarederror',\n",
       "                                                      'reg:logistic'],\n",
       "                                        'subsample': array([0.1, 0.2, 0.3, 0.4])},\n",
       "                   random_state=1)"
      ]
     },
     "execution_count": 18,
     "metadata": {},
     "output_type": "execute_result"
    }
   ],
   "source": [
    "searcher.fit(df_train, df_train_y)"
   ]
  },
  {
   "cell_type": "code",
   "execution_count": 19,
   "id": "cb25f043",
   "metadata": {},
   "outputs": [],
   "source": [
    "for c in one_hot_features:\n",
    "    one_hot = pd.DataFrame(vectorizer.transform(df_validation[c]).toarray()).rename(lambda x: c+sorted(vectorizer.vocabulary_ )[x], axis=\"columns\").set_index(df_validation.index)\n",
    "    df_validation = df_validation.join(one_hot)\n",
    "    del df_validation[c]\n",
    "for c in df_validation.columns:\n",
    "    if df_validation[c].dtype==object: \n",
    "        df_validation[c]= df_validation[c].map(lista_de_diccs[c])"
   ]
  },
  {
   "cell_type": "code",
   "execution_count": 20,
   "id": "b3efbdcf",
   "metadata": {},
   "outputs": [
    {
     "data": {
      "text/plain": [
       "0.8580330099470383"
      ]
     },
     "execution_count": 20,
     "metadata": {},
     "output_type": "execute_result"
    }
   ],
   "source": [
    "roc_auc_score(df_train_y, searcher.best_estimator_.predict(df_train))"
   ]
  },
  {
   "cell_type": "code",
   "execution_count": 21,
   "id": "69ba8926",
   "metadata": {},
   "outputs": [
    {
     "data": {
      "text/plain": [
       "0.8086516989702566"
      ]
     },
     "execution_count": 21,
     "metadata": {},
     "output_type": "execute_result"
    }
   ],
   "source": [
    "roc_auc_score(df_validation_y, searcher.best_estimator_.predict(df_validation))"
   ]
  },
  {
   "cell_type": "code",
   "execution_count": 22,
   "id": "4d0e8fc4",
   "metadata": {},
   "outputs": [],
   "source": [
    "df_test = pd.read_csv(\"test_identity.csv\").merge(pd.read_csv(\"test_transaction.csv\"), how=\"right\", left_on= \"TransactionID\", right_on= \"TransactionID\")"
   ]
  },
  {
   "cell_type": "code",
   "execution_count": 23,
   "id": "741bb301",
   "metadata": {},
   "outputs": [],
   "source": [
    "transactionid = df_test[\"TransactionID\"]\n",
    "for c in df_test.columns:\n",
    "    df_test.rename(columns={c: c.replace(\"id-\", \"id_\")}, inplace=True)"
   ]
  },
  {
   "cell_type": "code",
   "execution_count": 24,
   "id": "da2eb6b5",
   "metadata": {},
   "outputs": [],
   "source": [
    "df_test=df_test.filter(columnas)"
   ]
  },
  {
   "cell_type": "code",
   "execution_count": 25,
   "id": "2bf81406",
   "metadata": {},
   "outputs": [],
   "source": [
    "for c in df_test.columns:\n",
    "    if df_test[c].dtype==object: \n",
    "        df_test[c] = df_test[c].replace(np.nan, \"NaN\")\n",
    "    else:\n",
    "        df_test[c] = df_test[c].replace(np.nan, 0)"
   ]
  },
  {
   "cell_type": "code",
   "execution_count": 26,
   "id": "dc1a4203",
   "metadata": {},
   "outputs": [],
   "source": [
    "for c in one_hot_features:\n",
    "    one_hot = pd.DataFrame(vectorizer.fit_transform(df_test[c]).toarray()).rename(lambda x: c+sorted(vectorizer.vocabulary_ )[x], axis=\"columns\")\n",
    "    del df_test[c]\n",
    "    df_test = df_test.join(one_hot)\n",
    "for c in df_test.columns:\n",
    "    if df_test[c].dtype==object: \n",
    "        df_test[c]= df_test[c].map(lista_de_diccs[c])"
   ]
  },
  {
   "cell_type": "code",
   "execution_count": 27,
   "id": "a7d2ea8a",
   "metadata": {},
   "outputs": [],
   "source": [
    "pd.DataFrame({\"TransactionID\":transactionid, \"isFraud\":list(searcher.best_estimator_.predict(df_test))}).set_index(\"TransactionID\").to_csv(\"df_entrega_concurso_xgb.csv\")"
   ]
  },
  {
   "cell_type": "markdown",
   "id": "857d2794",
   "metadata": {},
   "source": [
    "## Puntuacion Final del concurso para XGBOOST\n",
    "### 0.814913"
   ]
  },
  {
   "cell_type": "markdown",
   "id": "7e73aff6",
   "metadata": {},
   "source": [
    "## Modelo 2 RandomForest"
   ]
  },
  {
   "cell_type": "code",
   "execution_count": 28,
   "id": "b583cd7d",
   "metadata": {},
   "outputs": [],
   "source": [
    "rf_model = RandomForestRegressor(random_state=69)"
   ]
  },
  {
   "cell_type": "code",
   "execution_count": 29,
   "id": "585a51a5",
   "metadata": {},
   "outputs": [],
   "source": [
    "hiperparametros = {}\n",
    "hiperparametros[\"max_features\"] = range(3,11)\n",
    "hiperparametros[\"min_samples_split\"] = range(5, 11)\n",
    "hiperparametros[\"min_samples_leaf\"] =range(5, 11)\n",
    "hiperparametros[\"max_depth\"] = range(5, 11)\n",
    "hiperparametros[\"n_estimators\"] = range(100,201, 10)"
   ]
  },
  {
   "cell_type": "code",
   "execution_count": 30,
   "id": "c91b11f6",
   "metadata": {},
   "outputs": [],
   "source": [
    "%reset_selective -f \"^searcher$\"\n",
    "searcher = RandomizedSearchCV(rf_model, hiperparametros,cv=3, random_state=69, n_iter=20, n_jobs=2)"
   ]
  },
  {
   "cell_type": "code",
   "execution_count": 31,
   "id": "2cb9a09d",
   "metadata": {},
   "outputs": [
    {
     "data": {
      "text/plain": [
       "RandomizedSearchCV(cv=3, estimator=RandomForestRegressor(random_state=69),\n",
       "                   n_iter=20, n_jobs=2,\n",
       "                   param_distributions={'max_depth': range(5, 11),\n",
       "                                        'max_features': range(3, 11),\n",
       "                                        'min_samples_leaf': range(5, 11),\n",
       "                                        'min_samples_split': range(5, 11),\n",
       "                                        'n_estimators': range(100, 201, 10)},\n",
       "                   random_state=69)"
      ]
     },
     "execution_count": 31,
     "metadata": {},
     "output_type": "execute_result"
    }
   ],
   "source": [
    "searcher.fit(df_train, df_train_y)"
   ]
  },
  {
   "cell_type": "code",
   "execution_count": 32,
   "id": "32b487f3",
   "metadata": {},
   "outputs": [],
   "source": [
    "for c in df_validation.columns:\n",
    "    df_validation[c] = df_validation[c].replace(np.nan, 0)"
   ]
  },
  {
   "cell_type": "code",
   "execution_count": 33,
   "id": "eac08154",
   "metadata": {},
   "outputs": [
    {
     "data": {
      "text/plain": [
       "0.8161674703731933"
      ]
     },
     "execution_count": 33,
     "metadata": {},
     "output_type": "execute_result"
    }
   ],
   "source": [
    "roc_auc_score(df_validation_y, searcher.best_estimator_.predict(df_validation))"
   ]
  },
  {
   "cell_type": "code",
   "execution_count": 34,
   "id": "fe07dec0",
   "metadata": {},
   "outputs": [],
   "source": [
    "for c in df_test.columns:\n",
    "    df_test[c] = df_test[c].replace(np.nan, 0)"
   ]
  },
  {
   "cell_type": "code",
   "execution_count": 35,
   "id": "ca0d75c6",
   "metadata": {},
   "outputs": [],
   "source": [
    "pd.DataFrame({\"TransactionID\":transactionid, \"isFraud\":list(searcher.best_estimator_.predict(df_test))}).set_index(\"TransactionID\").to_csv(\"df_entrega_concurso_randomforet.csv\")"
   ]
  },
  {
   "cell_type": "markdown",
   "id": "8b05f4a4",
   "metadata": {},
   "source": [
    "## Puntuacion Final del concurso para RandomForestRegressor\n",
    "### 0.844390"
   ]
  },
  {
   "cell_type": "markdown",
   "id": "20765bb9",
   "metadata": {},
   "source": [
    "# Punto extra\n",
    "## Graficar la importancia de features para algún modelo de la parte III. ¿Qué tanto se parece a los features importantes de la parte II? (1 punto) (Se grafico el model RandomForrest)"
   ]
  },
  {
   "cell_type": "code",
   "execution_count": 36,
   "id": "f2689dcf",
   "metadata": {},
   "outputs": [],
   "source": [
    "import matplotlib.pyplot as plt"
   ]
  },
  {
   "cell_type": "code",
   "execution_count": 43,
   "id": "90099ac8",
   "metadata": {},
   "outputs": [],
   "source": [
    "df_importancia = pd.DataFrame(searcher.best_estimator_.feature_importances_).rename(columns={0:\"importancia\"})"
   ]
  },
  {
   "cell_type": "code",
   "execution_count": 46,
   "id": "31022371",
   "metadata": {},
   "outputs": [],
   "source": [
    "df_importancia.index = df_importancia.index.map(lambda x: df_train.columns[x])"
   ]
  },
  {
   "cell_type": "code",
   "execution_count": 49,
   "id": "d27a4b6f",
   "metadata": {},
   "outputs": [],
   "source": [
    "df_importancia=df_importancia.nlargest(20, \"importancia\")"
   ]
  },
  {
   "cell_type": "code",
   "execution_count": 52,
   "id": "2af4bba9",
   "metadata": {},
   "outputs": [
    {
     "data": {
      "text/plain": [
       "<matplotlib.axes._subplots.AxesSubplot at 0x7fd2877b8bb0>"
      ]
     },
     "execution_count": 52,
     "metadata": {},
     "output_type": "execute_result"
    },
    {
     "data": {
      "image/png": "[encoded data removed]",
      "text/plain": [
       "<Figure size 1080x1080 with 1 Axes>"
      ]
     },
     "metadata": {
      "needs_background": "light"
     },
     "output_type": "display_data"
    }
   ],
   "source": [
    "df_importancia.plot.bar(figsize=(15,15), title=\"Importancia de las features para RandomForestRegressor\")"
   ]
  },
  {
   "cell_type": "code",
   "execution_count": 53,
   "id": "b1c8432b",
   "metadata": {},
   "outputs": [
    {
     "data": {
      "text/plain": [
       "<matplotlib.axes._subplots.AxesSubplot at 0x7fd2868a64f0>"
      ]
     },
     "execution_count": 53,
     "metadata": {},
     "output_type": "execute_result"
    },
    {
     "data": {
      "image/png": "[encoded data removed]",
      "text/plain": [
       "<Figure size 1080x1080 with 1 Axes>"
      ]
     },
     "metadata": {
      "needs_background": "light"
     },
     "output_type": "display_data"
    }
   ],
   "source": [
    "los_20_mas_importantes_part_2.plot.bar(figsize=(15,15),title=\"Importancia de las features para LogisticRegression\")"
   ]
  },
  {
   "cell_type": "code",
   "execution_count": null,
   "id": "255a8581",
   "metadata": {},
   "outputs": [],
   "source": []
  }
 ],
 "metadata": {
  "kernelspec": {
   "display_name": "Python 3 (ipykernel)",
   "language": "python",
   "name": "python3"
  },
  "language_info": {
   "codemirror_mode": {
    "name": "ipython",
    "version": 3
   },
   "file_extension": ".py",
   "mimetype": "text/x-python",
   "name": "python",
   "nbconvert_exporter": "python",
   "pygments_lexer": "ipython3",
   "version": "3.8.10"
  }
 },
 "nbformat": 4,
 "nbformat_minor": 5
}
