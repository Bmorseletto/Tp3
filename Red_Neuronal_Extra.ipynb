{
 "cells": [
  {
   "cell_type": "code",
   "execution_count": 1,
   "id": "2f2e3e68",
   "metadata": {},
   "outputs": [
    {
     "name": "stderr",
     "output_type": "stream",
     "text": [
      "2021-11-28 20:40:43.339411: W tensorflow/stream_executor/platform/default/dso_loader.cc:64] Could not load dynamic library 'libcudart.so.11.0'; dlerror: libcudart.so.11.0: cannot open shared object file: No such file or directory\n",
      "2021-11-28 20:40:43.339438: I tensorflow/stream_executor/cuda/cudart_stub.cc:29] Ignore above cudart dlerror if you do not have a GPU set up on your machine.\n"
     ]
    }
   ],
   "source": [
    "import pandas as pd\n",
    "import numpy as np\n",
    "from sklearn.preprocessing import OneHotEncoder\n",
    "from sklearn.feature_extraction.text import CountVectorizer\n",
    "import keras\n",
    "from keras.models import Sequential\n",
    "from keras.layers import Dense\n",
    "from sklearn.metrics import classification_report, accuracy_score, roc_auc_score"
   ]
  },
  {
   "cell_type": "code",
   "execution_count": 2,
   "id": "dc52de67",
   "metadata": {},
   "outputs": [],
   "source": [
    "df=pd.read_csv(\"train_identity.csv\").merge(pd.read_csv(\"train_transaction.csv\"), how=\"right\", left_on= \"TransactionID\", right_on= \"TransactionID\")"
   ]
  },
  {
   "cell_type": "code",
   "execution_count": 3,
   "id": "0bc16e1e",
   "metadata": {},
   "outputs": [],
   "source": [
    "import pickle\n",
    "with open('features_importantes', 'rb') as file:\n",
    "    features_importantes = pickle.load(file)"
   ]
  },
  {
   "cell_type": "code",
   "execution_count": 4,
   "id": "2f843af6",
   "metadata": {},
   "outputs": [],
   "source": [
    "del df[\"TransactionID\"]"
   ]
  },
  {
   "cell_type": "code",
   "execution_count": 5,
   "id": "40a7e71d",
   "metadata": {},
   "outputs": [],
   "source": [
    "columnas=[\"TransactionDT\", \"isFraud\"]\n",
    "for c in features_importantes.index:\n",
    "    columnas.append(df.columns[c])"
   ]
  },
  {
   "cell_type": "code",
   "execution_count": 6,
   "id": "1d400229",
   "metadata": {},
   "outputs": [],
   "source": [
    "df=df.filter(columnas)"
   ]
  },
  {
   "cell_type": "code",
   "execution_count": 7,
   "id": "77b42ce4",
   "metadata": {},
   "outputs": [],
   "source": [
    "for c in df.columns:\n",
    "    if df[c].dtype==object: \n",
    "        df[c] = df[c].replace(np.nan, \"NaN\")\n",
    "    else:\n",
    "        df[c] = df[c].replace(np.nan, df[c].mean())"
   ]
  },
  {
   "cell_type": "code",
   "execution_count": 8,
   "id": "2a443741",
   "metadata": {},
   "outputs": [],
   "source": [
    "division_tran_validation = int(df[\"TransactionDT\"][len(df)-1]*0.80)"
   ]
  },
  {
   "cell_type": "code",
   "execution_count": 9,
   "id": "f46777a9",
   "metadata": {},
   "outputs": [],
   "source": [
    "df_train = df[df[\"TransactionDT\"] <= division_tran_validation]\n",
    "df_train_y = df_train[\"isFraud\"]\n",
    "df_validation = df[df[\"TransactionDT\"] > division_tran_validation]\n",
    "df_validation_y = df_validation[\"isFraud\"]"
   ]
  },
  {
   "cell_type": "code",
   "execution_count": 10,
   "id": "b1954b1b",
   "metadata": {},
   "outputs": [],
   "source": [
    "%reset_selective -f \"^df$\""
   ]
  },
  {
   "cell_type": "code",
   "execution_count": 11,
   "id": "2edb63ce",
   "metadata": {},
   "outputs": [],
   "source": [
    "lista_de_diccs = {}\n",
    "one_hot_features = []\n",
    "for c in df_train.columns:\n",
    "    vectorizer = CountVectorizer()\n",
    "    if df_train[c].dtype==object: \n",
    "        if len((df_train[c]).unique()) <= 10:\n",
    "            one_hot = pd.DataFrame(vectorizer.fit_transform(df_train[c]).toarray()).rename(lambda x: c+sorted(vectorizer.vocabulary_ )[x], axis=\"columns\")\n",
    "            del df_train[c]\n",
    "            one_hot_features.append(c)\n",
    "            df_train = df_train.join(one_hot)\n",
    "        else:\n",
    "            dict_actual=df_train.groupby([c])['isFraud'].mean().to_dict()\n",
    "            lista_de_diccs[c]=dict_actual\n",
    "            df_train[c]=df_train[c].map(dict_actual)"
   ]
  },
  {
   "cell_type": "code",
   "execution_count": 12,
   "id": "03589d58",
   "metadata": {},
   "outputs": [],
   "source": [
    "for c in one_hot_features:\n",
    "    one_hot = pd.DataFrame(vectorizer.transform(df_validation[c]).toarray()).rename(lambda x: c+sorted(vectorizer.vocabulary_ )[x], axis=\"columns\").set_index(df_validation.index)\n",
    "    df_validation = df_validation.join(one_hot)\n",
    "    del df_validation[c]\n",
    "for c in df_validation.columns:\n",
    "    if df_validation[c].dtype==object: \n",
    "        df_validation[c]= df_validation[c].map(lista_de_diccs[c])\n",
    "for c in df_validation.columns:\n",
    "    df_validation[c] = df_validation[c].replace(np.nan, 0)"
   ]
  },
  {
   "cell_type": "code",
   "execution_count": 13,
   "id": "4f1de2f0",
   "metadata": {},
   "outputs": [],
   "source": [
    "del df_train[\"isFraud\"]\n",
    "del df_validation[\"isFraud\"]"
   ]
  },
  {
   "cell_type": "code",
   "execution_count": 14,
   "id": "41a8e9de",
   "metadata": {},
   "outputs": [],
   "source": [
    "del df_train[\"TransactionDT\"]\n",
    "del df_validation[\"TransactionDT\"]"
   ]
  },
  {
   "cell_type": "code",
   "execution_count": 15,
   "id": "cf2bc7c9",
   "metadata": {},
   "outputs": [
    {
     "name": "stderr",
     "output_type": "stream",
     "text": [
      "2021-11-28 20:41:05.117031: W tensorflow/stream_executor/platform/default/dso_loader.cc:64] Could not load dynamic library 'libcuda.so.1'; dlerror: libcuda.so.1: cannot open shared object file: No such file or directory\n",
      "2021-11-28 20:41:05.117056: W tensorflow/stream_executor/cuda/cuda_driver.cc:269] failed call to cuInit: UNKNOWN ERROR (303)\n",
      "2021-11-28 20:41:05.117073: I tensorflow/stream_executor/cuda/cuda_diagnostics.cc:156] kernel driver does not appear to be running on this host (bruno-VirtualBox): /proc/driver/nvidia/version does not exist\n",
      "2021-11-28 20:41:05.118931: I tensorflow/core/platform/cpu_feature_guard.cc:151] This TensorFlow binary is optimized with oneAPI Deep Neural Network Library (oneDNN) to use the following CPU instructions in performance-critical operations:  AVX2\n",
      "To enable them in other operations, rebuild TensorFlow with the appropriate compiler flags.\n"
     ]
    }
   ],
   "source": [
    "model = Sequential()"
   ]
  },
  {
   "cell_type": "code",
   "execution_count": 16,
   "id": "0e41a246",
   "metadata": {},
   "outputs": [],
   "source": [
    "model.add(Dense(200, input_dim=100, activation=\"relu\"))\n",
    "model.add(Dense(200, activation='relu'))\n",
    "model.add(Dense(1, activation='sigmoid'))"
   ]
  },
  {
   "cell_type": "code",
   "execution_count": 17,
   "id": "f981123b",
   "metadata": {},
   "outputs": [],
   "source": [
    "model.compile(loss='binary_crossentropy', optimizer='adam', metrics=['accuracy'])"
   ]
  },
  {
   "cell_type": "code",
   "execution_count": 18,
   "id": "39255f3d",
   "metadata": {},
   "outputs": [
    {
     "name": "stdout",
     "output_type": "stream",
     "text": [
      "Epoch 1/100\n",
      "7587/7587 [==============================] - 8s 994us/step - loss: 20.0111 - accuracy: 0.9428\n",
      "Epoch 2/100\n",
      "7587/7587 [==============================] - 7s 954us/step - loss: 0.1734 - accuracy: 0.9650\n",
      "Epoch 3/100\n",
      "7587/7587 [==============================] - 7s 955us/step - loss: 0.1495 - accuracy: 0.9664\n",
      "Epoch 4/100\n",
      "7587/7587 [==============================] - 7s 963us/step - loss: 0.1371 - accuracy: 0.9669\n",
      "Epoch 5/100\n",
      "7587/7587 [==============================] - 7s 955us/step - loss: 0.1343 - accuracy: 0.9672\n",
      "Epoch 6/100\n",
      "7587/7587 [==============================] - 7s 954us/step - loss: 0.1340 - accuracy: 0.9673\n",
      "Epoch 7/100\n",
      "7587/7587 [==============================] - 7s 961us/step - loss: 0.1320 - accuracy: 0.9671\n",
      "Epoch 8/100\n",
      "7587/7587 [==============================] - 7s 970us/step - loss: 0.1327 - accuracy: 0.9671\n",
      "Epoch 9/100\n",
      "7587/7587 [==============================] - 7s 963us/step - loss: 0.1323 - accuracy: 0.9672\n",
      "Epoch 10/100\n",
      "7587/7587 [==============================] - 7s 965us/step - loss: 0.1327 - accuracy: 0.9674\n",
      "Epoch 11/100\n",
      "7587/7587 [==============================] - 7s 957us/step - loss: 0.1338 - accuracy: 0.9672\n",
      "Epoch 12/100\n",
      "7587/7587 [==============================] - 7s 955us/step - loss: 0.1325 - accuracy: 0.9673\n",
      "Epoch 13/100\n",
      "7587/7587 [==============================] - 7s 951us/step - loss: 0.1312 - accuracy: 0.9670\n",
      "Epoch 14/100\n",
      "7587/7587 [==============================] - 7s 947us/step - loss: 0.1301 - accuracy: 0.9673\n",
      "Epoch 15/100\n",
      "7587/7587 [==============================] - 7s 947us/step - loss: 0.1326 - accuracy: 0.9669\n",
      "Epoch 16/100\n",
      "7587/7587 [==============================] - 7s 958us/step - loss: 0.1317 - accuracy: 0.9677\n",
      "Epoch 17/100\n",
      "7587/7587 [==============================] - 7s 957us/step - loss: 0.1290 - accuracy: 0.9673\n",
      "Epoch 18/100\n",
      "7587/7587 [==============================] - 7s 981us/step - loss: 0.1305 - accuracy: 0.9673\n",
      "Epoch 19/100\n",
      "7587/7587 [==============================] - 7s 978us/step - loss: 0.1295 - accuracy: 0.9676\n",
      "Epoch 20/100\n",
      "7587/7587 [==============================] - 7s 979us/step - loss: 0.1319 - accuracy: 0.9674\n",
      "Epoch 21/100\n",
      "7587/7587 [==============================] - 7s 973us/step - loss: 0.1291 - accuracy: 0.9673\n",
      "Epoch 22/100\n",
      "7587/7587 [==============================] - 7s 986us/step - loss: 0.1334 - accuracy: 0.9673\n",
      "Epoch 23/100\n",
      "7587/7587 [==============================] - 7s 969us/step - loss: 0.1287 - accuracy: 0.9674\n",
      "Epoch 24/100\n",
      "7587/7587 [==============================] - 8s 995us/step - loss: 0.1285 - accuracy: 0.9669\n",
      "Epoch 25/100\n",
      "7587/7587 [==============================] - 7s 984us/step - loss: 0.1292 - accuracy: 0.9676\n",
      "Epoch 26/100\n",
      "7587/7587 [==============================] - 7s 978us/step - loss: 0.1298 - accuracy: 0.9674\n",
      "Epoch 27/100\n",
      "7587/7587 [==============================] - 8s 1ms/step - loss: 0.1290 - accuracy: 0.9677\n",
      "Epoch 28/100\n",
      "7587/7587 [==============================] - 7s 977us/step - loss: 0.1289 - accuracy: 0.9670\n",
      "Epoch 29/100\n",
      "7587/7587 [==============================] - 8s 1ms/step - loss: 0.1280 - accuracy: 0.9669\n",
      "Epoch 30/100\n",
      "7587/7587 [==============================] - 7s 963us/step - loss: 0.1288 - accuracy: 0.9669\n",
      "Epoch 31/100\n",
      "7587/7587 [==============================] - 7s 968us/step - loss: 0.1281 - accuracy: 0.9674\n",
      "Epoch 32/100\n",
      "7587/7587 [==============================] - 8s 1ms/step - loss: 0.1312 - accuracy: 0.9673\n",
      "Epoch 33/100\n",
      "7587/7587 [==============================] - 7s 942us/step - loss: 0.1280 - accuracy: 0.9670\n",
      "Epoch 34/100\n",
      "7587/7587 [==============================] - 8s 1ms/step - loss: 0.1281 - accuracy: 0.9676\n",
      "Epoch 35/100\n",
      "7587/7587 [==============================] - 7s 958us/step - loss: 0.1278 - accuracy: 0.9674\n",
      "Epoch 36/100\n",
      "7587/7587 [==============================] - 7s 953us/step - loss: 0.1278 - accuracy: 0.9674\n",
      "Epoch 37/100\n",
      "7587/7587 [==============================] - 7s 955us/step - loss: 0.1272 - accuracy: 0.9672\n",
      "Epoch 38/100\n",
      "7587/7587 [==============================] - 7s 954us/step - loss: 0.1295 - accuracy: 0.9673\n",
      "Epoch 39/100\n",
      "7587/7587 [==============================] - 7s 955us/step - loss: 0.1276 - accuracy: 0.9667\n",
      "Epoch 40/100\n",
      "7587/7587 [==============================] - 7s 970us/step - loss: 0.1275 - accuracy: 0.9668\n",
      "Epoch 41/100\n",
      "7587/7587 [==============================] - 7s 947us/step - loss: 0.1286 - accuracy: 0.9673\n",
      "Epoch 42/100\n",
      "7587/7587 [==============================] - 7s 957us/step - loss: 0.1274 - accuracy: 0.9668\n",
      "Epoch 43/100\n",
      "7587/7587 [==============================] - 8s 1ms/step - loss: 0.1266 - accuracy: 0.9667\n",
      "Epoch 44/100\n",
      "7587/7587 [==============================] - 7s 946us/step - loss: 0.1307 - accuracy: 0.9672\n",
      "Epoch 45/100\n",
      "7587/7587 [==============================] - 8s 1ms/step - loss: 0.1270 - accuracy: 0.9668\n",
      "Epoch 46/100\n",
      "7587/7587 [==============================] - 7s 971us/step - loss: 0.1269 - accuracy: 0.9667\n",
      "Epoch 47/100\n",
      "7587/7587 [==============================] - 8s 1ms/step - loss: 0.1264 - accuracy: 0.9668\n",
      "Epoch 48/100\n",
      "7587/7587 [==============================] - 7s 979us/step - loss: 0.1273 - accuracy: 0.9666\n",
      "Epoch 49/100\n",
      "7587/7587 [==============================] - 7s 975us/step - loss: 0.1265 - accuracy: 0.9667\n",
      "Epoch 50/100\n",
      "7587/7587 [==============================] - 7s 984us/step - loss: 0.1266 - accuracy: 0.9670\n",
      "Epoch 51/100\n",
      "7587/7587 [==============================] - 7s 982us/step - loss: 0.1275 - accuracy: 0.9666\n",
      "Epoch 52/100\n",
      "7587/7587 [==============================] - 8s 995us/step - loss: 0.1260 - accuracy: 0.9668\n",
      "Epoch 53/100\n",
      "7587/7587 [==============================] - 8s 1ms/step - loss: 0.1270 - accuracy: 0.9670\n",
      "Epoch 54/100\n",
      "7587/7587 [==============================] - 8s 1ms/step - loss: 0.1288 - accuracy: 0.9668\n",
      "Epoch 55/100\n",
      "7587/7587 [==============================] - 8s 1ms/step - loss: 0.1263 - accuracy: 0.9668\n",
      "Epoch 56/100\n",
      "7587/7587 [==============================] - 8s 1ms/step - loss: 0.1274 - accuracy: 0.9668\n",
      "Epoch 57/100\n",
      "7587/7587 [==============================] - 8s 1ms/step - loss: 0.1265 - accuracy: 0.9668\n",
      "Epoch 58/100\n",
      "7587/7587 [==============================] - 7s 988us/step - loss: 0.1276 - accuracy: 0.9671\n",
      "Epoch 59/100\n",
      "7587/7587 [==============================] - 8s 1ms/step - loss: 0.1253 - accuracy: 0.9669\n",
      "Epoch 60/100\n",
      "7587/7587 [==============================] - 8s 1ms/step - loss: 0.1313 - accuracy: 0.9671\n",
      "Epoch 61/100\n",
      "7587/7587 [==============================] - 8s 1ms/step - loss: 0.1251 - accuracy: 0.9669\n",
      "Epoch 62/100\n",
      "7587/7587 [==============================] - 8s 1ms/step - loss: 0.1263 - accuracy: 0.9670\n",
      "Epoch 63/100\n",
      "7587/7587 [==============================] - 8s 1ms/step - loss: 0.1253 - accuracy: 0.9669\n",
      "Epoch 64/100\n",
      "7587/7587 [==============================] - 8s 1ms/step - loss: 0.1259 - accuracy: 0.9669\n",
      "Epoch 65/100\n",
      "7587/7587 [==============================] - 8s 1ms/step - loss: 0.1251 - accuracy: 0.9668\n",
      "Epoch 66/100\n",
      "7587/7587 [==============================] - 8s 1ms/step - loss: 0.1244 - accuracy: 0.9669\n",
      "Epoch 67/100\n",
      "7587/7587 [==============================] - 8s 1ms/step - loss: 0.1260 - accuracy: 0.9669\n",
      "Epoch 68/100\n",
      "7587/7587 [==============================] - 8s 1ms/step - loss: 0.1283 - accuracy: 0.9669\n",
      "Epoch 69/100\n",
      "7587/7587 [==============================] - 8s 1ms/step - loss: 0.1244 - accuracy: 0.9669\n",
      "Epoch 70/100\n",
      "7587/7587 [==============================] - 8s 1ms/step - loss: 0.1258 - accuracy: 0.9670\n",
      "Epoch 71/100\n",
      "7587/7587 [==============================] - 8s 1ms/step - loss: 0.1267 - accuracy: 0.9669\n",
      "Epoch 72/100\n",
      "7587/7587 [==============================] - 8s 1ms/step - loss: 0.1258 - accuracy: 0.9670\n",
      "Epoch 73/100\n",
      "7587/7587 [==============================] - 8s 1ms/step - loss: 0.1269 - accuracy: 0.9668\n",
      "Epoch 74/100\n",
      "7587/7587 [==============================] - 8s 1ms/step - loss: 0.1255 - accuracy: 0.9670\n",
      "Epoch 75/100\n",
      "7587/7587 [==============================] - 8s 1ms/step - loss: 0.1261 - accuracy: 0.9670\n",
      "Epoch 76/100\n",
      "7587/7587 [==============================] - 8s 1ms/step - loss: 0.1327 - accuracy: 0.9669\n",
      "Epoch 77/100\n",
      "7587/7587 [==============================] - 8s 1ms/step - loss: 0.1435 - accuracy: 0.9669\n",
      "Epoch 78/100\n",
      "7587/7587 [==============================] - 7s 967us/step - loss: 0.1434 - accuracy: 0.9669\n"
     ]
    },
    {
     "name": "stdout",
     "output_type": "stream",
     "text": [
      "Epoch 79/100\n",
      "7587/7587 [==============================] - 7s 970us/step - loss: 0.1430 - accuracy: 0.9669\n",
      "Epoch 80/100\n",
      "7587/7587 [==============================] - 8s 996us/step - loss: 0.1460 - accuracy: 0.9667\n",
      "Epoch 81/100\n",
      "7587/7587 [==============================] - 8s 1ms/step - loss: 0.1369 - accuracy: 0.9669\n",
      "Epoch 82/100\n",
      "7587/7587 [==============================] - 8s 1ms/step - loss: 0.1311 - accuracy: 0.9674\n",
      "Epoch 83/100\n",
      "7587/7587 [==============================] - 8s 1ms/step - loss: 0.1289 - accuracy: 0.9676\n",
      "Epoch 84/100\n",
      "7587/7587 [==============================] - 8s 1ms/step - loss: 0.1277 - accuracy: 0.9678\n",
      "Epoch 85/100\n",
      "7587/7587 [==============================] - 8s 1ms/step - loss: 0.1281 - accuracy: 0.9680\n",
      "Epoch 86/100\n",
      "7587/7587 [==============================] - 8s 1ms/step - loss: 0.1265 - accuracy: 0.9682\n",
      "Epoch 87/100\n",
      "7587/7587 [==============================] - 8s 1ms/step - loss: 0.1266 - accuracy: 0.9684\n",
      "Epoch 88/100\n",
      "7587/7587 [==============================] - 8s 1ms/step - loss: 0.1257 - accuracy: 0.9686\n",
      "Epoch 89/100\n",
      "7587/7587 [==============================] - 8s 1ms/step - loss: 0.1274 - accuracy: 0.9682\n",
      "Epoch 90/100\n",
      "7587/7587 [==============================] - 8s 1ms/step - loss: 0.1257 - accuracy: 0.9687\n",
      "Epoch 91/100\n",
      "7587/7587 [==============================] - 8s 1ms/step - loss: 0.1249 - accuracy: 0.9688\n",
      "Epoch 92/100\n",
      "7587/7587 [==============================] - 9s 1ms/step - loss: 0.1257 - accuracy: 0.9689\n",
      "Epoch 93/100\n",
      "7587/7587 [==============================] - 9s 1ms/step - loss: 0.1252 - accuracy: 0.9690\n",
      "Epoch 94/100\n",
      "7587/7587 [==============================] - 9s 1ms/step - loss: 0.1246 - accuracy: 0.9691\n",
      "Epoch 95/100\n",
      "7587/7587 [==============================] - 9s 1ms/step - loss: 0.1248 - accuracy: 0.9692\n",
      "Epoch 96/100\n",
      "7587/7587 [==============================] - 8s 1ms/step - loss: 0.1236 - accuracy: 0.9693\n",
      "Epoch 97/100\n",
      "7587/7587 [==============================] - 8s 1ms/step - loss: 0.1235 - accuracy: 0.9694\n",
      "Epoch 98/100\n",
      "7587/7587 [==============================] - 8s 1ms/step - loss: 0.1243 - accuracy: 0.9694\n",
      "Epoch 99/100\n",
      "7587/7587 [==============================] - 8s 991us/step - loss: 0.1248 - accuracy: 0.9694\n",
      "Epoch 100/100\n",
      "7587/7587 [==============================] - 7s 988us/step - loss: 0.1240 - accuracy: 0.9695\n"
     ]
    }
   ],
   "source": [
    "training = model.fit(df_train, df_train_y, epochs=100, batch_size=64)"
   ]
  },
  {
   "cell_type": "code",
   "execution_count": 19,
   "id": "5e4b8630",
   "metadata": {},
   "outputs": [],
   "source": [
    "prediction=model.predict(df_validation)"
   ]
  },
  {
   "cell_type": "code",
   "execution_count": 20,
   "id": "fd8f5cfd",
   "metadata": {},
   "outputs": [
    {
     "data": {
      "text/plain": [
       "0.7214465453981104"
      ]
     },
     "execution_count": 20,
     "metadata": {},
     "output_type": "execute_result"
    }
   ],
   "source": [
    "roc_auc_score(df_validation_y, prediction)"
   ]
  },
  {
   "cell_type": "code",
   "execution_count": 21,
   "id": "c517fa54",
   "metadata": {},
   "outputs": [],
   "source": [
    "df_test = pd.read_csv(\"test_identity.csv\").merge(pd.read_csv(\"test_transaction.csv\"), how=\"right\", left_on= \"TransactionID\", right_on= \"TransactionID\")"
   ]
  },
  {
   "cell_type": "code",
   "execution_count": 22,
   "id": "a1e3ce29",
   "metadata": {},
   "outputs": [],
   "source": [
    "transactionid = df_test[\"TransactionID\"]\n",
    "for c in df_test.columns:\n",
    "    df_test.rename(columns={c: c.replace(\"id-\", \"id_\")}, inplace=True)"
   ]
  },
  {
   "cell_type": "code",
   "execution_count": 23,
   "id": "3200a471",
   "metadata": {},
   "outputs": [],
   "source": [
    "df_test=df_test.filter(columnas)"
   ]
  },
  {
   "cell_type": "code",
   "execution_count": 24,
   "id": "cacf44cb",
   "metadata": {},
   "outputs": [],
   "source": [
    "for c in df_test.columns:\n",
    "    if df_test[c].dtype==object: \n",
    "        df_test[c] = df_test[c].replace(np.nan, \"NaN\")\n",
    "    else:\n",
    "        df_test[c] = df_test[c].replace(np.nan, df_test[c].mean())"
   ]
  },
  {
   "cell_type": "code",
   "execution_count": 25,
   "id": "68174cb4",
   "metadata": {},
   "outputs": [],
   "source": [
    "for c in one_hot_features:\n",
    "    one_hot = pd.DataFrame(vectorizer.fit_transform(df_test[c]).toarray()).rename(lambda x: c+sorted(vectorizer.vocabulary_ )[x], axis=\"columns\")\n",
    "    del df_test[c]\n",
    "    df_test = df_test.join(one_hot)\n",
    "for c in df_test.columns:\n",
    "    if df_test[c].dtype==object: \n",
    "        df_test[c]= df_test[c].map(lista_de_diccs[c])"
   ]
  },
  {
   "cell_type": "code",
   "execution_count": 28,
   "id": "2f681614",
   "metadata": {},
   "outputs": [],
   "source": [
    "del df_test[\"TransactionDT\"]"
   ]
  },
  {
   "cell_type": "code",
   "execution_count": 35,
   "id": "e2856654",
   "metadata": {},
   "outputs": [],
   "source": [
    "lista_de_probas = []\n",
    "for i in list(model.predict(df_test)):\n",
    "    lista_de_probas.append(i[0])"
   ]
  },
  {
   "cell_type": "code",
   "execution_count": 84,
   "id": "c902cebe",
   "metadata": {},
   "outputs": [],
   "source": [
    "dataframe_final = pd.DataFrame({\"TransactionID\":transactionid, \"isFraud\":list(lista_de_probas)})"
   ]
  },
  {
   "cell_type": "code",
   "execution_count": 85,
   "id": "90ab383b",
   "metadata": {},
   "outputs": [],
   "source": [
    "dataframe_final.to_csv(\"dataframe_entrega_extra.csv\", index=False, na_rep = dataframe_final[\"isFraud\"][0])"
   ]
  },
  {
   "cell_type": "markdown",
   "id": "cc5778f0",
   "metadata": {},
   "source": [
    "## Puntuacion Final del concurso para Keras\n",
    "### 0.684401"
   ]
  },
  {
   "cell_type": "markdown",
   "id": "92da67c7",
   "metadata": {},
   "source": [
    "### tuve que usar na_rep  porque por alguna razon to_csv me estaba borrando valores "
   ]
  },
  {
   "cell_type": "code",
   "execution_count": null,
   "id": "496dbce7",
   "metadata": {},
   "outputs": [],
   "source": []
  }
 ],
 "metadata": {
  "kernelspec": {
   "display_name": "Python 3 (ipykernel)",
   "language": "python",
   "name": "python3"
  },
  "language_info": {
   "codemirror_mode": {
    "name": "ipython",
    "version": 3
   },
   "file_extension": ".py",
   "mimetype": "text/x-python",
   "name": "python",
   "nbconvert_exporter": "python",
   "pygments_lexer": "ipython3",
   "version": "3.8.10"
  }
 },
 "nbformat": 4,
 "nbformat_minor": 5
}
